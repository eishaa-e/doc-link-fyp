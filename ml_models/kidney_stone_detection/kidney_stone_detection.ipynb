{
 "cells": [
  {
   "cell_type": "markdown",
   "id": "ce468c10",
   "metadata": {},
   "source": [
    "# Kidney Stone Classication\n"
   ]
  },
  {
   "cell_type": "markdown",
   "id": "bdeedac2",
   "metadata": {},
   "source": [
    "## Importing Libraries\n"
   ]
  },
  {
   "cell_type": "code",
   "execution_count": null,
   "id": "f6cafef1",
   "metadata": {},
   "outputs": [],
   "source": [
    "import os\n",
    "import numpy as np\n",
    "import pandas as pd\n",
    "import matplotlib.pyplot as plt\n",
    "import seaborn as sns\n",
    "import random\n",
    "\n",
    "import keras\n",
    "from keras.models import Sequential\n",
    "from keras.layers import Dense, Conv2D, MaxPooling2D, Dropout, Flatten, Activation, BatchNormalization\n",
    "from tensorflow.keras.preprocessing.image import ImageDataGenerator\n",
    "from tensorflow.keras.utils import load_img\n",
    "from keras.callbacks import EarlyStopping, ReduceLROnPlateau\n",
    "\n",
    "from skimage.feature import hog \n",
    "from sklearn.svm import SVC\n",
    "from sklearn.metrics import accuracy_score \n",
    "from sklearn.model_selection import train_test_split \n",
    "from sklearn.metrics import confusion_matrix"
   ]
  },
  {
   "cell_type": "markdown",
   "id": "9f7beb0d",
   "metadata": {},
   "source": [
    "## Preparing Traning Data\n"
   ]
  },
  {
   "cell_type": "code",
   "execution_count": 2,
   "id": "c0818443",
   "metadata": {},
   "outputs": [],
   "source": [
    "folder_path = \"./dataset/train/\"\n",
    "filenames = []\n",
    "categories = []\n",
    "\n",
    "for category in os.listdir(folder_path):\n",
    "    category_path = os.path.join(folder_path, category)\n",
    "    \n",
    "    if os.path.isdir(category_path):\n",
    "        for filename in os.listdir(category_path):\n",
    "            filenames.append(os.path.join(category, filename))\n",
    "            categories.append(category)\n",
    "\n",
    "df = pd.DataFrame({\n",
    "    'filename': filenames,\n",
    "    'category': categories\n",
    "})"
   ]
  },
  {
   "cell_type": "code",
   "execution_count": null,
   "id": "d79ad94e",
   "metadata": {},
   "outputs": [],
   "source": [
    "df.head()"
   ]
  },
  {
   "cell_type": "code",
   "execution_count": null,
   "id": "5b47ea40",
   "metadata": {},
   "outputs": [],
   "source": [
    "df.tail()"
   ]
  },
  {
   "cell_type": "code",
   "execution_count": null,
   "id": "6359e861",
   "metadata": {},
   "outputs": [],
   "source": [
    "df['category'].value_counts().plot.bar()"
   ]
  },
  {
   "cell_type": "markdown",
   "id": "5e8fd190",
   "metadata": {},
   "source": [
    "## Visualizing Data\n"
   ]
  },
  {
   "cell_type": "code",
   "execution_count": null,
   "id": "17ed5544",
   "metadata": {},
   "outputs": [],
   "source": [
    "sample = random.choice(filenames)\n",
    "image = load_img(\"./dataset/train/\"+sample)\n",
    "plt.imshow(image)"
   ]
  },
  {
   "cell_type": "markdown",
   "id": "5ee8950b",
   "metadata": {},
   "source": [
    "# CNN(Convolutional Neural Network)\n"
   ]
  },
  {
   "cell_type": "markdown",
   "id": "e0ecd34e",
   "metadata": {},
   "source": [
    "## Building CNN Model\n"
   ]
  },
  {
   "cell_type": "code",
   "execution_count": null,
   "id": "27918ea8",
   "metadata": {},
   "outputs": [],
   "source": [
    "model = Sequential()\n",
    "\n",
    "#Adding convolutional layers\n",
    "model.add(Conv2D(32, (3, 3), activation='relu', input_shape=(150, 150, 3)))\n",
    "model.add(BatchNormalization())\n",
    "model.add(MaxPooling2D(pool_size=(2, 2)))\n",
    "\n",
    "#Adding a second convolutional layer\n",
    "model.add(Conv2D(64, (3, 3) , activation='relu'))\n",
    "model.add(BatchNormalization())\n",
    "model.add(MaxPooling2D(pool_size=(2, 2)))\n",
    "\n",
    "\n",
    "model.add(Flatten())  # this converts our feature maps to 1D feature vectors\n",
    "model.add(Dense(128, activation='relu'))\n",
    "model.add(BatchNormalization())\n",
    "model.add(Dropout(0.5))\n",
    "model.add(Dense(2)) # as we have binary class i.e stone and normal so value is 2\n",
    "model.add(Activation('sigmoid')) #sigmoid for binary class classification"
   ]
  },
  {
   "cell_type": "code",
   "execution_count": null,
   "id": "1c56d059",
   "metadata": {},
   "outputs": [],
   "source": [
    "model.summary()"
   ]
  },
  {
   "cell_type": "markdown",
   "id": "c6d038c5",
   "metadata": {},
   "source": [
    "### Call Backs\n"
   ]
  },
  {
   "cell_type": "markdown",
   "id": "b939dbe3",
   "metadata": {},
   "source": [
    "#### Early Stop\n",
    "\n",
    "To prevent over fitting we will stop the learning after 10 epochs and val_loss value not decreased\n"
   ]
  },
  {
   "cell_type": "code",
   "execution_count": 9,
   "id": "ddfd960a",
   "metadata": {},
   "outputs": [],
   "source": [
    "earlystop = EarlyStopping(patience=10)"
   ]
  },
  {
   "cell_type": "markdown",
   "id": "e8958c1a",
   "metadata": {},
   "source": [
    "#### Learning Rate Reduction\n",
    "\n",
    "We will reduce the learning rate when then accuracy not increase for 2 steps\n"
   ]
  },
  {
   "cell_type": "code",
   "execution_count": 10,
   "id": "97345a47",
   "metadata": {},
   "outputs": [],
   "source": [
    "learning_rate_reduction = ReduceLROnPlateau(monitor='val_accuracy', \n",
    "                                            patience=2, \n",
    "                                            verbose=1, \n",
    "                                            factor=0.5, \n",
    "                                            min_lr=0.00001)"
   ]
  },
  {
   "cell_type": "code",
   "execution_count": 11,
   "id": "a598ecb8",
   "metadata": {},
   "outputs": [],
   "source": [
    "callbacks = [earlystop, learning_rate_reduction]"
   ]
  },
  {
   "cell_type": "markdown",
   "id": "1af4432c",
   "metadata": {},
   "source": [
    "### Preparing Data\n"
   ]
  },
  {
   "cell_type": "code",
   "execution_count": 12,
   "id": "c539aeda",
   "metadata": {},
   "outputs": [],
   "source": [
    "train_df, validate_df = train_test_split(df, test_size=0.20, random_state=42)\n",
    "train_df = train_df.reset_index(drop=True)\n",
    "validate_df = validate_df.reset_index(drop=True)"
   ]
  },
  {
   "cell_type": "code",
   "execution_count": null,
   "id": "336765ed",
   "metadata": {},
   "outputs": [],
   "source": [
    "train_df['category'].value_counts().plot.bar()"
   ]
  },
  {
   "cell_type": "code",
   "execution_count": null,
   "id": "2a910a61",
   "metadata": {},
   "outputs": [],
   "source": [
    "validate_df['category'].value_counts().plot.bar()"
   ]
  },
  {
   "cell_type": "markdown",
   "id": "50c62bb3",
   "metadata": {},
   "source": [
    "### Train and Validation generator\n"
   ]
  },
  {
   "cell_type": "code",
   "execution_count": 15,
   "id": "3a597502",
   "metadata": {},
   "outputs": [],
   "source": [
    "train_datagen = ImageDataGenerator(\n",
    "    rotation_range=15,\n",
    "    rescale=1./255,\n",
    "    shear_range=0.1,\n",
    "    zoom_range=0.2,\n",
    "    horizontal_flip=True,\n",
    "    width_shift_range=0.1,\n",
    "    height_shift_range=0.1\n",
    ")\n",
    "\n",
    "validation_datagen = ImageDataGenerator(rescale=1./255)"
   ]
  },
  {
   "cell_type": "code",
   "execution_count": null,
   "id": "f63698ba",
   "metadata": {},
   "outputs": [],
   "source": [
    "train_generator = train_datagen.flow_from_dataframe(\n",
    "    train_df, \n",
    "    \"./dataset/train/\", \n",
    "    x_col='filename',\n",
    "    y_col='category',\n",
    "    target_size=(150,150),\n",
    "    class_mode='categorical',\n",
    "    batch_size=15\n",
    ")\n",
    "validation_generator = validation_datagen.flow_from_dataframe(\n",
    "    validate_df, \n",
    "    \"./dataset/train/\", \n",
    "    x_col='filename',\n",
    "    y_col='category',\n",
    "    target_size=(150,150),\n",
    "    class_mode='categorical',\n",
    "    batch_size=15\n",
    ")"
   ]
  },
  {
   "cell_type": "markdown",
   "id": "32b8ef9d",
   "metadata": {},
   "source": [
    "### Visulaizing the output of data gen\n"
   ]
  },
  {
   "cell_type": "code",
   "execution_count": null,
   "id": "a84c8a48",
   "metadata": {},
   "outputs": [],
   "source": [
    "example_df = train_df.sample(n=1).reset_index(drop=True)\n",
    "example_generator = train_datagen.flow_from_dataframe(\n",
    "    example_df, \n",
    "    \"./dataset/train/\", \n",
    "    x_col='filename',\n",
    "    y_col='category',\n",
    "    target_size=(150,150),\n",
    "    class_mode='categorical'\n",
    ")"
   ]
  },
  {
   "cell_type": "code",
   "execution_count": null,
   "id": "99e92b6a",
   "metadata": {
    "scrolled": false
   },
   "outputs": [],
   "source": [
    "plt.figure(figsize=(12, 12))\n",
    "for i in range(0, 15):\n",
    "    plt.subplot(5, 3, i+1)\n",
    "    for X_batch, Y_batch in example_generator:\n",
    "        image = X_batch[0]\n",
    "        plt.imshow(image)\n",
    "        break\n",
    "plt.tight_layout()\n",
    "plt.show()"
   ]
  },
  {
   "cell_type": "markdown",
   "id": "0e308be4",
   "metadata": {},
   "source": [
    "### Fitting the Model\n"
   ]
  },
  {
   "cell_type": "code",
   "execution_count": 21,
   "id": "faeb63b4",
   "metadata": {},
   "outputs": [],
   "source": [
    "# Compiling the model\n",
    "model.compile(loss='binary_crossentropy',\n",
    "              optimizer='adam',\n",
    "              metrics=['accuracy'])"
   ]
  },
  {
   "cell_type": "code",
   "execution_count": null,
   "id": "4ecefbdb",
   "metadata": {},
   "outputs": [],
   "source": [
    "history = model.fit(\n",
    "    train_generator, \n",
    "    epochs=5,\n",
    "    validation_data=validation_generator,\n",
    "    validation_steps=validate_df.shape[0]//15,\n",
    "    steps_per_epoch=train_df.shape[0]//15,\n",
    "    callbacks=callbacks\n",
    ")"
   ]
  },
  {
   "cell_type": "markdown",
   "id": "38bfd597",
   "metadata": {},
   "source": [
    "### Visualizing the Training history\n"
   ]
  },
  {
   "cell_type": "code",
   "execution_count": null,
   "id": "5ac19438",
   "metadata": {},
   "outputs": [],
   "source": [
    "# Plotting the training history\n",
    "plt.figure(figsize=(12, 8)) \n",
    "\n",
    "# Plot training & validation accuracy values\n",
    "plt.subplot(2, 1, 1)  # 2 rows, 1 column, first subplot\n",
    "plt.plot(history.history['accuracy'])\n",
    "plt.plot(history.history['val_accuracy'])\n",
    "plt.title('Model Accuracy')\n",
    "plt.xlabel('Epoch')\n",
    "plt.ylabel('Accuracy')\n",
    "plt.legend(['Train', 'Validation'], loc='upper left')\n",
    "\n",
    "# Plot training & validation loss values\n",
    "plt.subplot(2, 1, 2)  # 2 rows, 1 column, second subplot\n",
    "plt.plot(history.history['loss'])\n",
    "plt.plot(history.history['val_loss'])\n",
    "plt.title('Model Loss')\n",
    "plt.xlabel('Epoch')\n",
    "plt.ylabel('Loss')\n",
    "plt.legend(['Train', 'Validation'], loc='upper left')\n",
    "\n",
    "plt.tight_layout()\n",
    "plt.show()"
   ]
  },
  {
   "cell_type": "markdown",
   "id": "3767813b",
   "metadata": {},
   "source": [
    "### Saving the CNN Model\n"
   ]
  },
  {
   "cell_type": "code",
   "execution_count": null,
   "id": "21414f5b",
   "metadata": {},
   "outputs": [],
   "source": [
    "# Saving the Model\n",
    "model.save('kidney_stone_detection_model.h5')"
   ]
  },
  {
   "cell_type": "markdown",
   "id": "c98f209a",
   "metadata": {},
   "source": [
    "### Testing Data\n"
   ]
  },
  {
   "cell_type": "code",
   "execution_count": 26,
   "id": "69d22144",
   "metadata": {},
   "outputs": [],
   "source": [
    "test_folder_path = \"./dataset/test\"\n",
    "test_filenames = []\n",
    "test_categories = []\n",
    "\n",
    "for category in os.listdir(test_folder_path):\n",
    "    test_category_path = os.path.join(test_folder_path, category)\n",
    "    \n",
    "    if os.path.isdir(test_category_path):\n",
    "        for filename in os.listdir(test_category_path):\n",
    "            test_filenames.append(os.path.join(category, filename))\n",
    "            test_categories.append(category)\n",
    "\n",
    "test_df = pd.DataFrame({\n",
    "    'filename': test_filenames,\n",
    "    'category': test_categories\n",
    "})"
   ]
  },
  {
   "cell_type": "code",
   "execution_count": null,
   "id": "721d5fdb",
   "metadata": {},
   "outputs": [],
   "source": [
    "test_gen = ImageDataGenerator(rescale=1./255)\n",
    "\n",
    "test_generator = test_gen.flow_from_dataframe(\n",
    "    test_df, \n",
    "    \"./dataset/test/\", \n",
    "    x_col='filename',\n",
    "    y_col='category',\n",
    "    target_size=(150,150),\n",
    "    class_mode='categorical',\n",
    "    batch_size=15,\n",
    "    shuffle=False\n",
    ")"
   ]
  },
  {
   "cell_type": "markdown",
   "id": "c2941c75",
   "metadata": {},
   "source": [
    "### Predictions\n"
   ]
  },
  {
   "cell_type": "code",
   "execution_count": null,
   "id": "891f051d",
   "metadata": {},
   "outputs": [],
   "source": [
    "steps = int(np.ceil(test_df.shape[0] / 15))\n",
    "\n",
    "predict = model.predict(test_generator, steps=steps)"
   ]
  },
  {
   "cell_type": "code",
   "execution_count": 29,
   "id": "4e548590",
   "metadata": {},
   "outputs": [],
   "source": [
    "test_df['predicted category'] = np.argmax(predict, axis=-1)"
   ]
  },
  {
   "cell_type": "code",
   "execution_count": 30,
   "id": "a8248fee",
   "metadata": {},
   "outputs": [],
   "source": [
    "test_df['predicted category'] = test_df['predicted category'].replace({ 1: 'Stone', 0: 'Normal' })"
   ]
  },
  {
   "cell_type": "code",
   "execution_count": null,
   "id": "0837c1c0",
   "metadata": {},
   "outputs": [],
   "source": [
    "test_df.head()"
   ]
  },
  {
   "cell_type": "code",
   "execution_count": null,
   "id": "f31ad3d7",
   "metadata": {},
   "outputs": [],
   "source": [
    "plt.figure(figsize=(12, 4))\n",
    "\n",
    "# Plot the first bar plot (predicted category)\n",
    "plt.subplot(1, 2, 1)\n",
    "test_df['predicted category'].value_counts().plot.bar()\n",
    "plt.title('Predicted Categories')\n",
    "plt.xlabel('Category')\n",
    "plt.ylabel('Count')\n",
    "\n",
    "# Plot the second bar plot (actual category)\n",
    "plt.subplot(1, 2, 2)\n",
    "test_df['category'].value_counts().plot.bar()\n",
    "plt.title('Actual Categories')\n",
    "plt.xlabel('Category')\n",
    "plt.ylabel('Count')\n",
    "\n",
    "# Adjust layout to prevent overlap\n",
    "plt.tight_layout()\n",
    "\n",
    "# Show the plots\n",
    "plt.show()"
   ]
  },
  {
   "cell_type": "code",
   "execution_count": null,
   "id": "9b4334bf",
   "metadata": {},
   "outputs": [],
   "source": [
    "cm = confusion_matrix(test_df['category'], test_df['predicted category'])\n",
    "\n",
    "sns.heatmap(cm, annot=True, fmt='d', cmap='BuPu')\n",
    "\n",
    "plt.xlabel('Predicted Labels')\n",
    "plt.ylabel('True Labels')\n",
    "plt.title('Confusion Matrix')\n",
    "\n",
    "plt.show()"
   ]
  },
  {
   "cell_type": "markdown",
   "id": "10c76592",
   "metadata": {},
   "source": [
    "The results is baised toward normal as we have more Normal Images\n"
   ]
  },
  {
   "cell_type": "code",
   "execution_count": null,
   "id": "79c71cef",
   "metadata": {},
   "outputs": [],
   "source": [
    "model.evaluate(test_generator)"
   ]
  }
 ],
 "metadata": {
  "kernelspec": {
   "display_name": "Python 3",
   "language": "python",
   "name": "python3"
  },
  "language_info": {
   "codemirror_mode": {
    "name": "ipython",
    "version": 3
   },
   "file_extension": ".py",
   "mimetype": "text/x-python",
   "name": "python",
   "nbconvert_exporter": "python",
   "pygments_lexer": "ipython3",
   "version": "3.10.12"
  }
 },
 "nbformat": 4,
 "nbformat_minor": 5
}
